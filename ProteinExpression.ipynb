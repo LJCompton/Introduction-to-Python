{
 "cells": [
  {
   "cell_type": "markdown",
   "metadata": {},
   "source": [
    "# Practical Activity: Modelling Protein Expression in Python\n",
    "\n",
    "This notebook is designed to guide you through this formative assessment on Modelling Protein Expression. It has broken the problem down into manageable chunks. Please tackle each one in turn and make sure you check your output to make sure your code is working correctly.\n",
    "\n",
    "Though this work isn't part of your overall assessment, we have included rough percentage marks for each part. This should be used as a guide for how long and how difficult (relatively) each part is."
   ]
  },
  {
   "cell_type": "markdown",
   "metadata": {},
   "source": [
    "## Initial Setup\n",
    "\n",
    "Before you start working through the exercises below, please make sure you run the Python cell below that will set up everything you will need. This code will provide access to the following functions:\n",
    "\n",
    "* `genetic_code()`: Returns a string containing information to map from mRNA triplets to Amino Acids.\n",
    "* `exon_regions()`: Returns a string containing the start and stop positions of the exon regions\n",
    "* `lactase_gene()`: Returns a string with the genetic sequence of the lactase gene\n"
   ]
  },
  {
   "cell_type": "code",
   "execution_count": null,
   "metadata": {},
   "outputs": [],
   "source": [
    "from unit_2_library import *"
   ]
  },
  {
   "cell_type": "markdown",
   "metadata": {},
   "source": [
    "## Part 1: Building a Map from mRNA triplets to Amino Acids (30%)\n",
    "\n",
    "The first thing you need to do is take the information returned by the `genetic_code` function and put it in a more useful form, specifically a dictionary to map from the mRNA triplet to the amino acid information. Work your way through the following steps:\n",
    "\n",
    "1. Examine the output from the `genetic_code` function - you'll find it's in lines, where `'\\n'` is a special character specifying a new line, and each line is in columns seperated by whitespace.\n",
    "2. Construct a loop over the lines in the string\n",
    "3. For each line, split it up into columns\n",
    "4. Fill a dictionary called `acids` with the key being the first column and the value being another dictionary labelling and storing the 1-letter, 3-letter and amino acid names\n",
    "\n",
    "Use code boxes below to construct the dictionary. Some hints to do this:\n",
    "\n",
    "* Use the `string.split` function, first with the newline character (`'\\n'`) as an argument to get the lines and then with no arguments to split on whitespace (tabs and spaces) to give access to the columns\n",
    "* Each entry in the `acids` dictionary should look something like this:  \n",
    "```{'UUU': {'1-letter':'F', '3-letter':'Phe', 'amino acid': 'Phenylalanine'} }```\n"
   ]
  },
  {
   "cell_type": "code",
   "execution_count": null,
   "metadata": {},
   "outputs": [],
   "source": []
  },
  {
   "cell_type": "markdown",
   "metadata": {},
   "source": [
    "## Part 2: Store the Exon Regions Information (20%)\n",
    "\n",
    "The next thing you need is the exon region information - the start and end points of the exon regions in the lactase gene. As with the previous part, work your way through the following steps to do this:\n",
    "\n",
    "1. Examine the output from the `exon_regions` function - again, it's in lines with two columns on each line\n",
    "2. As before, loop over these lines and split in to the two columns\n",
    "3. The two columns are the start and end points respectively - store them in a dictionary with two keys `start` and `end`\n",
    "4. Store each dictionary you create for a line in a `list` called `exon_list`.\n",
    "\n",
    "A typical entry in the list should be:\n",
    "\n",
    "```{'start': 0, 'end':651}```\n",
    "\n",
    "Note that you need the values as integers, **not** strings - use `int(..)` to convert them!\n"
   ]
  },
  {
   "cell_type": "code",
   "execution_count": null,
   "metadata": {},
   "outputs": [],
   "source": []
  },
  {
   "cell_type": "markdown",
   "metadata": {},
   "source": [
    "## Part 3: Create the mRNA String (20%)\n",
    "\n",
    "You're now in a position to create the mRNA string itself. For this exercise, this is assumed to be just the concatenation of all the exon regions in the gene sequence. To do this, follow these steps:\n",
    "\n",
    "1. Get a copy of the lactase gene using the function `lactase_gene()`\n",
    "2. Loop over the `exon_list` variable\n",
    "3. Use slicing (`[:]`) to pick out from the lactase gene each of the exon regions and add each to string variable called `mrna`.\n",
    "4. Replace all the 'T' bases with 'U's in the `mrna` string to complete the mRNA sequence\n",
    "\n",
    "Don't forget that you can join strings together just by using the `+` operator!"
   ]
  },
  {
   "cell_type": "code",
   "execution_count": null,
   "metadata": {},
   "outputs": [],
   "source": []
  },
  {
   "cell_type": "markdown",
   "metadata": {},
   "source": [
    "## Part 4: Create the Protein String (30%)\n",
    "\n",
    "All the pieces are now in place to create the protein string coded for by the genetic sequence. This will involve taking triplets of mRNA and adding the appropriate single letter amino acid to the protein string, as given by the map created in Part 1. In addition, translation always starts with Methionine (AUG) and ends with the stop codon (X) so this must also be taken into account.\n",
    "\n",
    "1. Find the first instance of the 'AUG' substring in the mRNA sequence and store this position\n",
    "2. Using a `while` loop with an integer counter, start from this position and loop over the **triplets** in the remainder of the `mrna` string\n",
    "\n",
    "    - You will need to increase the counter by **three** each iteration to parse the string in triplets\n",
    "    - Set the `while` condition to stop when the loop reaches the end of the `mrna` string\n",
    "  \n",
    "    \n",
    "3. For each triplet, use the map to find the 1 letter amino acid representation\n",
    "4. If it is 'X' then break out of the loop, otherwise add it to a string called `protein`\n"
   ]
  },
  {
   "cell_type": "code",
   "execution_count": null,
   "metadata": {},
   "outputs": [],
   "source": []
  },
  {
   "cell_type": "markdown",
   "metadata": {},
   "source": [
    "After completing this notebook, download it to your computer and then upload it to the assessment page in canvas!"
   ]
  }
 ],
 "metadata": {
  "kernelspec": {
   "display_name": "Python 3",
   "language": "python",
   "name": "python3"
  },
  "language_info": {
   "codemirror_mode": {
    "name": "ipython",
    "version": 3
   },
   "file_extension": ".py",
   "mimetype": "text/x-python",
   "name": "python",
   "nbconvert_exporter": "python",
   "pygments_lexer": "ipython3",
   "version": "3.8.2"
  }
 },
 "nbformat": 4,
 "nbformat_minor": 4
}
