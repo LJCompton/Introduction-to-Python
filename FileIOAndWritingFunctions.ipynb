{
 "cells": [
  {
   "cell_type": "markdown",
   "metadata": {},
   "source": [
    "# Practical Activity: File I/O and Writing Functions\n",
    "\n",
    "This notebook is designed to reinforce the concepts introduced in Lesson 2 of Unit 3 of the Biology and Computation course. It will cover:\n",
    "\n",
    "* Reading and Writing to files\n",
    "* Writing Functions\n",
    "\n",
    "Please work through the material presented here and add code in to the cells as indicated. "
   ]
  },
  {
   "cell_type": "markdown",
   "metadata": {},
   "source": [
    "## Initial Setup\n",
    "\n",
    "Before you start working through the exercises below, please make sure you run the Python cell below that will set up everything you will need to check your answers."
   ]
  },
  {
   "cell_type": "code",
   "execution_count": null,
   "metadata": {},
   "outputs": [],
   "source": [
    "from unit_3_library import *"
   ]
  },
  {
   "cell_type": "markdown",
   "metadata": {},
   "source": [
    "## Reading from Files\n",
    "\n",
    "In this exercise you'll be looking at reading information from a text file. Within the folder that this notebook is saved in, there is a also a text file called `TheRaven.txt`. Can you:\n",
    "\n",
    "* Open the file, read in the whole contents and store it in a variable called `file_contents1`\n",
    "* Open the file, and store each line in a list variable called `file_contents2`. Please remove the newline characters at the end of each line!\n",
    "* Read in the first 50 bytes of the file and store it in a variable called `file_contents3`\n",
    "\n",
    "Don't forget that you'll either need to re-open the file after each reading or `seek` back to the beginning.\n",
    "\n",
    "Run the cell after that to check your answers."
   ]
  },
  {
   "cell_type": "code",
   "execution_count": null,
   "metadata": {},
   "outputs": [],
   "source": []
  },
  {
   "cell_type": "code",
   "execution_count": null,
   "metadata": {},
   "outputs": [],
   "source": [
    "check_answers_l2_ex1(globals())"
   ]
  },
  {
   "cell_type": "markdown",
   "metadata": {},
   "source": [
    "## Writing to Files\n",
    "\n",
    "In this exercise you'll be looking at writing some text information into a file. Can you:\n",
    "\n",
    "* Open a file called `TheRavenCopy.txt` for writing\n",
    "* Write out the lines contained in the list `file_contents2` but with a line number at the start of each line (i.e. `1 Once upon a midnight..`, etc.)\n",
    "* Close the file\n",
    "\n",
    "Some hints to complete the task:\n",
    "* Don't forget you can write out numbers as strings using the `str(..)` function\n",
    "* You need to add *one space* (`' '`) between the line number and text. Either write each part of the line (number, space, text) separately or combine them into a single variable and write that\n",
    "* Don't forget to add a new line character at the end of each line!\n",
    "\n",
    "Run the cell after that to check your answers."
   ]
  },
  {
   "cell_type": "code",
   "execution_count": null,
   "metadata": {},
   "outputs": [],
   "source": []
  },
  {
   "cell_type": "code",
   "execution_count": null,
   "metadata": {},
   "outputs": [],
   "source": [
    "check_answers_l2_ex2(globals())"
   ]
  },
  {
   "cell_type": "markdown",
   "metadata": {},
   "source": [
    "## Writing your own Functions\n",
    "\n",
    "In this exercise you'll be looking at writing your own functions. We'll start by looking at the code that you need to turn into a function:\n",
    "```\n",
    "my_list = [1, 5, 8, 9]\n",
    "my_mult = 5\n",
    "for i in range(0, len(my_list)):\n",
    "    my_list[i] *= my_mult\n",
    "```\n",
    "\n",
    "This just loops over a list and multiplies each element by `my_mult`. Can you try the following:\n",
    "\n",
    "* Define a function called `list_multiply1` that takes two arguments, the first being a list and the second being a number\n",
    "* In the function body, use the above code as a base to create a function that multiplies each list in the first argument by the second argument\n",
    "* Check your function works by calling it with a list variable and checking the list has been multiplied afterwards\n",
    "* Create a new function called `list_multiply2` that is a copy of `list_multiply1`\n",
    "* Change your `list_multiply2` function to make the second argument have a default value of `9`\n",
    "* Change your `list_multiply2` function so that it doesn't alter the list it's given but **returns a copy** of the list that has been multiplied\n",
    "* Check your new function works by calling it with a list variable. Check the return value contains a copy of the list that has been multiplied, and check the original list variable supplied to the function has not been modified.\n",
    "\n",
    "\n",
    "Remember that to create a copy of a list you can use the `list` function!\n",
    "\n",
    "Run the cell after that to check your answers."
   ]
  },
  {
   "cell_type": "code",
   "execution_count": null,
   "metadata": {},
   "outputs": [],
   "source": []
  },
  {
   "cell_type": "code",
   "execution_count": null,
   "metadata": {},
   "outputs": [],
   "source": [
    "check_answers_l2_ex3(globals())"
   ]
  },
  {
   "cell_type": "markdown",
   "metadata": {},
   "source": [
    "This activity has covered the prinicple ways you'll be accessing files and writing functions. There is more advanced functionality for both but these examples cover the vast majority of use-cases you are likely to encounter."
   ]
  }
 ],
 "metadata": {
  "kernelspec": {
   "display_name": "Python 3",
   "language": "python",
   "name": "python3"
  },
  "language_info": {
   "codemirror_mode": {
    "name": "ipython",
    "version": 3
   },
   "file_extension": ".py",
   "mimetype": "text/x-python",
   "name": "python",
   "nbconvert_exporter": "python",
   "pygments_lexer": "ipython3",
   "version": "3.8.7"
  }
 },
 "nbformat": 4,
 "nbformat_minor": 4
}
